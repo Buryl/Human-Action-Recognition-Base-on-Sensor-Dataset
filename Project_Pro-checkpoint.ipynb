{
 "cells": [
  {
   "cell_type": "code",
   "execution_count": 1,
   "metadata": {},
   "outputs": [],
   "source": [
    "import pandas as pd\n",
    "import numpy as np\n",
    "import matplotlib.pyplot as plt\n",
    "#将图标嵌入到Notebook中\n",
    "%matplotlib inline\n",
    "import warnings\n",
    "warnings.filterwarnings(\"ignore\")#忽略警告"
   ]
  },
  {
   "cell_type": "markdown",
   "metadata": {},
   "source": [
    "读取数据"
   ]
  },
  {
   "cell_type": "code",
   "execution_count": 2,
   "metadata": {},
   "outputs": [],
   "source": [
    "features=pd.read_csv('UCI HAR Dataset\\\\features.txt',sep='\\s+',index_col=0,header=None)#读取特征名"
   ]
  },
  {
   "cell_type": "code",
   "execution_count": 3,
   "metadata": {},
   "outputs": [],
   "source": [
    "train_data= pd.read_csv('UCI HAR Dataset\\\\train\\\\X_train.txt',sep='\\s+',names=list(features.values.ravel()))#读取训练集\n",
    "test_data= pd.read_csv('UCI HAR Dataset\\\\test\\\\X_test.txt',sep='\\s+',names=list(features.values.ravel()))#读取测试集集"
   ]
  },
  {
   "cell_type": "code",
   "execution_count": 4,
   "metadata": {},
   "outputs": [
    {
     "name": "stdout",
     "output_type": "stream",
     "text": [
      "<class 'pandas.core.frame.DataFrame'>\n",
      "RangeIndex: 7352 entries, 0 to 7351\n",
      "Columns: 561 entries, tBodyAcc-mean()-X to angle(Z,gravityMean)\n",
      "dtypes: float64(561)\n",
      "memory usage: 31.5 MB\n"
     ]
    }
   ],
   "source": [
    "train_data.info()#训练集信息"
   ]
  },
  {
   "cell_type": "code",
   "execution_count": 5,
   "metadata": {},
   "outputs": [
    {
     "name": "stdout",
     "output_type": "stream",
     "text": [
      "<class 'pandas.core.frame.DataFrame'>\n",
      "RangeIndex: 2947 entries, 0 to 2946\n",
      "Columns: 561 entries, tBodyAcc-mean()-X to angle(Z,gravityMean)\n",
      "dtypes: float64(561)\n",
      "memory usage: 12.6 MB\n"
     ]
    }
   ],
   "source": [
    "test_data.info()#测试集信息"
   ]
  },
  {
   "cell_type": "code",
   "execution_count": 6,
   "metadata": {},
   "outputs": [],
   "source": [
    "train_label=pd.read_csv('UCI HAR Dataset\\\\train\\\\y_train.txt',sep='\\s+',header=None)#训练集标签\n",
    "test_label=pd.read_csv('UCI HAR Dataset\\\\test\\\\y_test.txt',sep='\\s+',header=None)#测试集标签"
   ]
  },
  {
   "cell_type": "code",
   "execution_count": 7,
   "metadata": {},
   "outputs": [
    {
     "name": "stdout",
     "output_type": "stream",
     "text": [
      "<class 'pandas.core.frame.DataFrame'>\n",
      "RangeIndex: 7352 entries, 0 to 7351\n",
      "Data columns (total 1 columns):\n",
      "0    7352 non-null int64\n",
      "dtypes: int64(1)\n",
      "memory usage: 57.5 KB\n"
     ]
    }
   ],
   "source": [
    "train_label.info()"
   ]
  },
  {
   "cell_type": "code",
   "execution_count": 8,
   "metadata": {},
   "outputs": [
    {
     "name": "stdout",
     "output_type": "stream",
     "text": [
      "<class 'pandas.core.frame.DataFrame'>\n",
      "RangeIndex: 2947 entries, 0 to 2946\n",
      "Data columns (total 1 columns):\n",
      "0    2947 non-null int64\n",
      "dtypes: int64(1)\n",
      "memory usage: 23.1 KB\n"
     ]
    }
   ],
   "source": [
    "test_label.info()"
   ]
  },
  {
   "cell_type": "code",
   "execution_count": 9,
   "metadata": {},
   "outputs": [],
   "source": [
    "label_name=pd.read_csv('UCI HAR Dataset\\\\activity_labels.txt',sep='\\s+',header=None,index_col=0)"
   ]
  },
  {
   "cell_type": "code",
   "execution_count": 10,
   "metadata": {},
   "outputs": [
    {
     "name": "stdout",
     "output_type": "stream",
     "text": [
      "<class 'pandas.core.frame.DataFrame'>\n",
      "Int64Index: 6 entries, 1 to 6\n",
      "Data columns (total 1 columns):\n",
      "1    6 non-null object\n",
      "dtypes: object(1)\n",
      "memory usage: 96.0+ bytes\n"
     ]
    }
   ],
   "source": [
    "label_name.info()"
   ]
  },
  {
   "cell_type": "code",
   "execution_count": 11,
   "metadata": {
    "scrolled": true
   },
   "outputs": [
    {
     "data": {
      "text/html": [
       "<div>\n",
       "<style scoped>\n",
       "    .dataframe tbody tr th:only-of-type {\n",
       "        vertical-align: middle;\n",
       "    }\n",
       "\n",
       "    .dataframe tbody tr th {\n",
       "        vertical-align: top;\n",
       "    }\n",
       "\n",
       "    .dataframe thead th {\n",
       "        text-align: right;\n",
       "    }\n",
       "</style>\n",
       "<table border=\"1\" class=\"dataframe\">\n",
       "  <thead>\n",
       "    <tr style=\"text-align: right;\">\n",
       "      <th></th>\n",
       "      <th>tBodyAcc-mean()-X</th>\n",
       "      <th>tBodyAcc-mean()-Y</th>\n",
       "      <th>tBodyAcc-mean()-Z</th>\n",
       "      <th>tBodyAcc-std()-X</th>\n",
       "      <th>tBodyAcc-std()-Y</th>\n",
       "      <th>tBodyAcc-std()-Z</th>\n",
       "      <th>tBodyAcc-mad()-X</th>\n",
       "      <th>tBodyAcc-mad()-Y</th>\n",
       "      <th>tBodyAcc-mad()-Z</th>\n",
       "      <th>tBodyAcc-max()-X</th>\n",
       "      <th>...</th>\n",
       "      <th>fBodyBodyGyroJerkMag-meanFreq()</th>\n",
       "      <th>fBodyBodyGyroJerkMag-skewness()</th>\n",
       "      <th>fBodyBodyGyroJerkMag-kurtosis()</th>\n",
       "      <th>angle(tBodyAccMean,gravity)</th>\n",
       "      <th>angle(tBodyAccJerkMean),gravityMean)</th>\n",
       "      <th>angle(tBodyGyroMean,gravityMean)</th>\n",
       "      <th>angle(tBodyGyroJerkMean,gravityMean)</th>\n",
       "      <th>angle(X,gravityMean)</th>\n",
       "      <th>angle(Y,gravityMean)</th>\n",
       "      <th>angle(Z,gravityMean)</th>\n",
       "    </tr>\n",
       "  </thead>\n",
       "  <tbody>\n",
       "    <tr>\n",
       "      <th>count</th>\n",
       "      <td>7352.000000</td>\n",
       "      <td>7352.000000</td>\n",
       "      <td>7352.000000</td>\n",
       "      <td>7352.000000</td>\n",
       "      <td>7352.000000</td>\n",
       "      <td>7352.000000</td>\n",
       "      <td>7352.000000</td>\n",
       "      <td>7352.000000</td>\n",
       "      <td>7352.000000</td>\n",
       "      <td>7352.000000</td>\n",
       "      <td>...</td>\n",
       "      <td>7352.000000</td>\n",
       "      <td>7352.000000</td>\n",
       "      <td>7352.000000</td>\n",
       "      <td>7352.000000</td>\n",
       "      <td>7352.000000</td>\n",
       "      <td>7352.000000</td>\n",
       "      <td>7352.000000</td>\n",
       "      <td>7352.000000</td>\n",
       "      <td>7352.000000</td>\n",
       "      <td>7352.000000</td>\n",
       "    </tr>\n",
       "    <tr>\n",
       "      <th>mean</th>\n",
       "      <td>0.274488</td>\n",
       "      <td>-0.017695</td>\n",
       "      <td>-0.109141</td>\n",
       "      <td>-0.605438</td>\n",
       "      <td>-0.510938</td>\n",
       "      <td>-0.604754</td>\n",
       "      <td>-0.630512</td>\n",
       "      <td>-0.526907</td>\n",
       "      <td>-0.606150</td>\n",
       "      <td>-0.468604</td>\n",
       "      <td>...</td>\n",
       "      <td>0.125293</td>\n",
       "      <td>-0.307009</td>\n",
       "      <td>-0.625294</td>\n",
       "      <td>0.008684</td>\n",
       "      <td>0.002186</td>\n",
       "      <td>0.008726</td>\n",
       "      <td>-0.005981</td>\n",
       "      <td>-0.489547</td>\n",
       "      <td>0.058593</td>\n",
       "      <td>-0.056515</td>\n",
       "    </tr>\n",
       "    <tr>\n",
       "      <th>std</th>\n",
       "      <td>0.070261</td>\n",
       "      <td>0.040811</td>\n",
       "      <td>0.056635</td>\n",
       "      <td>0.448734</td>\n",
       "      <td>0.502645</td>\n",
       "      <td>0.418687</td>\n",
       "      <td>0.424073</td>\n",
       "      <td>0.485942</td>\n",
       "      <td>0.414122</td>\n",
       "      <td>0.544547</td>\n",
       "      <td>...</td>\n",
       "      <td>0.250994</td>\n",
       "      <td>0.321011</td>\n",
       "      <td>0.307584</td>\n",
       "      <td>0.336787</td>\n",
       "      <td>0.448306</td>\n",
       "      <td>0.608303</td>\n",
       "      <td>0.477975</td>\n",
       "      <td>0.511807</td>\n",
       "      <td>0.297480</td>\n",
       "      <td>0.279122</td>\n",
       "    </tr>\n",
       "    <tr>\n",
       "      <th>min</th>\n",
       "      <td>-1.000000</td>\n",
       "      <td>-1.000000</td>\n",
       "      <td>-1.000000</td>\n",
       "      <td>-1.000000</td>\n",
       "      <td>-0.999873</td>\n",
       "      <td>-1.000000</td>\n",
       "      <td>-1.000000</td>\n",
       "      <td>-1.000000</td>\n",
       "      <td>-1.000000</td>\n",
       "      <td>-1.000000</td>\n",
       "      <td>...</td>\n",
       "      <td>-1.000000</td>\n",
       "      <td>-0.995357</td>\n",
       "      <td>-0.999765</td>\n",
       "      <td>-0.976580</td>\n",
       "      <td>-1.000000</td>\n",
       "      <td>-1.000000</td>\n",
       "      <td>-1.000000</td>\n",
       "      <td>-1.000000</td>\n",
       "      <td>-1.000000</td>\n",
       "      <td>-1.000000</td>\n",
       "    </tr>\n",
       "    <tr>\n",
       "      <th>25%</th>\n",
       "      <td>0.262975</td>\n",
       "      <td>-0.024863</td>\n",
       "      <td>-0.120993</td>\n",
       "      <td>-0.992754</td>\n",
       "      <td>-0.978129</td>\n",
       "      <td>-0.980233</td>\n",
       "      <td>-0.993591</td>\n",
       "      <td>-0.978162</td>\n",
       "      <td>-0.980251</td>\n",
       "      <td>-0.936219</td>\n",
       "      <td>...</td>\n",
       "      <td>-0.023692</td>\n",
       "      <td>-0.542602</td>\n",
       "      <td>-0.845573</td>\n",
       "      <td>-0.121527</td>\n",
       "      <td>-0.289549</td>\n",
       "      <td>-0.482273</td>\n",
       "      <td>-0.376341</td>\n",
       "      <td>-0.812065</td>\n",
       "      <td>-0.017885</td>\n",
       "      <td>-0.143414</td>\n",
       "    </tr>\n",
       "    <tr>\n",
       "      <th>50%</th>\n",
       "      <td>0.277193</td>\n",
       "      <td>-0.017219</td>\n",
       "      <td>-0.108676</td>\n",
       "      <td>-0.946196</td>\n",
       "      <td>-0.851897</td>\n",
       "      <td>-0.859365</td>\n",
       "      <td>-0.950709</td>\n",
       "      <td>-0.857328</td>\n",
       "      <td>-0.857143</td>\n",
       "      <td>-0.881637</td>\n",
       "      <td>...</td>\n",
       "      <td>0.134000</td>\n",
       "      <td>-0.343685</td>\n",
       "      <td>-0.711692</td>\n",
       "      <td>0.009509</td>\n",
       "      <td>0.008943</td>\n",
       "      <td>0.008735</td>\n",
       "      <td>-0.000368</td>\n",
       "      <td>-0.709417</td>\n",
       "      <td>0.182071</td>\n",
       "      <td>0.003181</td>\n",
       "    </tr>\n",
       "    <tr>\n",
       "      <th>75%</th>\n",
       "      <td>0.288461</td>\n",
       "      <td>-0.010783</td>\n",
       "      <td>-0.097794</td>\n",
       "      <td>-0.242813</td>\n",
       "      <td>-0.034231</td>\n",
       "      <td>-0.262415</td>\n",
       "      <td>-0.292680</td>\n",
       "      <td>-0.066701</td>\n",
       "      <td>-0.265671</td>\n",
       "      <td>-0.017129</td>\n",
       "      <td>...</td>\n",
       "      <td>0.289096</td>\n",
       "      <td>-0.126979</td>\n",
       "      <td>-0.503878</td>\n",
       "      <td>0.150865</td>\n",
       "      <td>0.292861</td>\n",
       "      <td>0.506187</td>\n",
       "      <td>0.359368</td>\n",
       "      <td>-0.509079</td>\n",
       "      <td>0.248353</td>\n",
       "      <td>0.107659</td>\n",
       "    </tr>\n",
       "    <tr>\n",
       "      <th>max</th>\n",
       "      <td>1.000000</td>\n",
       "      <td>1.000000</td>\n",
       "      <td>1.000000</td>\n",
       "      <td>1.000000</td>\n",
       "      <td>0.916238</td>\n",
       "      <td>1.000000</td>\n",
       "      <td>1.000000</td>\n",
       "      <td>0.967664</td>\n",
       "      <td>1.000000</td>\n",
       "      <td>1.000000</td>\n",
       "      <td>...</td>\n",
       "      <td>0.946700</td>\n",
       "      <td>0.989538</td>\n",
       "      <td>0.956845</td>\n",
       "      <td>1.000000</td>\n",
       "      <td>1.000000</td>\n",
       "      <td>0.998702</td>\n",
       "      <td>0.996078</td>\n",
       "      <td>1.000000</td>\n",
       "      <td>0.478157</td>\n",
       "      <td>1.000000</td>\n",
       "    </tr>\n",
       "  </tbody>\n",
       "</table>\n",
       "<p>8 rows × 561 columns</p>\n",
       "</div>"
      ],
      "text/plain": [
       "       tBodyAcc-mean()-X  tBodyAcc-mean()-Y  tBodyAcc-mean()-Z  \\\n",
       "count        7352.000000        7352.000000        7352.000000   \n",
       "mean            0.274488          -0.017695          -0.109141   \n",
       "std             0.070261           0.040811           0.056635   \n",
       "min            -1.000000          -1.000000          -1.000000   \n",
       "25%             0.262975          -0.024863          -0.120993   \n",
       "50%             0.277193          -0.017219          -0.108676   \n",
       "75%             0.288461          -0.010783          -0.097794   \n",
       "max             1.000000           1.000000           1.000000   \n",
       "\n",
       "       tBodyAcc-std()-X  tBodyAcc-std()-Y  tBodyAcc-std()-Z  tBodyAcc-mad()-X  \\\n",
       "count       7352.000000       7352.000000       7352.000000       7352.000000   \n",
       "mean          -0.605438         -0.510938         -0.604754         -0.630512   \n",
       "std            0.448734          0.502645          0.418687          0.424073   \n",
       "min           -1.000000         -0.999873         -1.000000         -1.000000   \n",
       "25%           -0.992754         -0.978129         -0.980233         -0.993591   \n",
       "50%           -0.946196         -0.851897         -0.859365         -0.950709   \n",
       "75%           -0.242813         -0.034231         -0.262415         -0.292680   \n",
       "max            1.000000          0.916238          1.000000          1.000000   \n",
       "\n",
       "       tBodyAcc-mad()-Y  tBodyAcc-mad()-Z  tBodyAcc-max()-X  \\\n",
       "count       7352.000000       7352.000000       7352.000000   \n",
       "mean          -0.526907         -0.606150         -0.468604   \n",
       "std            0.485942          0.414122          0.544547   \n",
       "min           -1.000000         -1.000000         -1.000000   \n",
       "25%           -0.978162         -0.980251         -0.936219   \n",
       "50%           -0.857328         -0.857143         -0.881637   \n",
       "75%           -0.066701         -0.265671         -0.017129   \n",
       "max            0.967664          1.000000          1.000000   \n",
       "\n",
       "               ...           fBodyBodyGyroJerkMag-meanFreq()  \\\n",
       "count          ...                               7352.000000   \n",
       "mean           ...                                  0.125293   \n",
       "std            ...                                  0.250994   \n",
       "min            ...                                 -1.000000   \n",
       "25%            ...                                 -0.023692   \n",
       "50%            ...                                  0.134000   \n",
       "75%            ...                                  0.289096   \n",
       "max            ...                                  0.946700   \n",
       "\n",
       "       fBodyBodyGyroJerkMag-skewness()  fBodyBodyGyroJerkMag-kurtosis()  \\\n",
       "count                      7352.000000                      7352.000000   \n",
       "mean                         -0.307009                        -0.625294   \n",
       "std                           0.321011                         0.307584   \n",
       "min                          -0.995357                        -0.999765   \n",
       "25%                          -0.542602                        -0.845573   \n",
       "50%                          -0.343685                        -0.711692   \n",
       "75%                          -0.126979                        -0.503878   \n",
       "max                           0.989538                         0.956845   \n",
       "\n",
       "       angle(tBodyAccMean,gravity)  angle(tBodyAccJerkMean),gravityMean)  \\\n",
       "count                  7352.000000                           7352.000000   \n",
       "mean                      0.008684                              0.002186   \n",
       "std                       0.336787                              0.448306   \n",
       "min                      -0.976580                             -1.000000   \n",
       "25%                      -0.121527                             -0.289549   \n",
       "50%                       0.009509                              0.008943   \n",
       "75%                       0.150865                              0.292861   \n",
       "max                       1.000000                              1.000000   \n",
       "\n",
       "       angle(tBodyGyroMean,gravityMean)  angle(tBodyGyroJerkMean,gravityMean)  \\\n",
       "count                       7352.000000                           7352.000000   \n",
       "mean                           0.008726                             -0.005981   \n",
       "std                            0.608303                              0.477975   \n",
       "min                           -1.000000                             -1.000000   \n",
       "25%                           -0.482273                             -0.376341   \n",
       "50%                            0.008735                             -0.000368   \n",
       "75%                            0.506187                              0.359368   \n",
       "max                            0.998702                              0.996078   \n",
       "\n",
       "       angle(X,gravityMean)  angle(Y,gravityMean)  angle(Z,gravityMean)  \n",
       "count           7352.000000           7352.000000           7352.000000  \n",
       "mean              -0.489547              0.058593             -0.056515  \n",
       "std                0.511807              0.297480              0.279122  \n",
       "min               -1.000000             -1.000000             -1.000000  \n",
       "25%               -0.812065             -0.017885             -0.143414  \n",
       "50%               -0.709417              0.182071              0.003181  \n",
       "75%               -0.509079              0.248353              0.107659  \n",
       "max                1.000000              0.478157              1.000000  \n",
       "\n",
       "[8 rows x 561 columns]"
      ]
     },
     "execution_count": 11,
     "metadata": {},
     "output_type": "execute_result"
    }
   ],
   "source": [
    "#分析数据\n",
    "train_data.describe()"
   ]
  },
  {
   "cell_type": "code",
   "execution_count": 12,
   "metadata": {},
   "outputs": [
    {
     "data": {
      "text/html": [
       "<div>\n",
       "<style scoped>\n",
       "    .dataframe tbody tr th:only-of-type {\n",
       "        vertical-align: middle;\n",
       "    }\n",
       "\n",
       "    .dataframe tbody tr th {\n",
       "        vertical-align: top;\n",
       "    }\n",
       "\n",
       "    .dataframe thead th {\n",
       "        text-align: right;\n",
       "    }\n",
       "</style>\n",
       "<table border=\"1\" class=\"dataframe\">\n",
       "  <thead>\n",
       "    <tr style=\"text-align: right;\">\n",
       "      <th></th>\n",
       "      <th>tBodyAcc-mean()-X</th>\n",
       "      <th>tBodyAcc-mean()-Y</th>\n",
       "      <th>tBodyAcc-mean()-Z</th>\n",
       "      <th>tBodyAcc-std()-X</th>\n",
       "      <th>tBodyAcc-std()-Y</th>\n",
       "      <th>tBodyAcc-std()-Z</th>\n",
       "      <th>tBodyAcc-mad()-X</th>\n",
       "      <th>tBodyAcc-mad()-Y</th>\n",
       "      <th>tBodyAcc-mad()-Z</th>\n",
       "      <th>tBodyAcc-max()-X</th>\n",
       "      <th>...</th>\n",
       "      <th>fBodyBodyGyroJerkMag-meanFreq()</th>\n",
       "      <th>fBodyBodyGyroJerkMag-skewness()</th>\n",
       "      <th>fBodyBodyGyroJerkMag-kurtosis()</th>\n",
       "      <th>angle(tBodyAccMean,gravity)</th>\n",
       "      <th>angle(tBodyAccJerkMean),gravityMean)</th>\n",
       "      <th>angle(tBodyGyroMean,gravityMean)</th>\n",
       "      <th>angle(tBodyGyroJerkMean,gravityMean)</th>\n",
       "      <th>angle(X,gravityMean)</th>\n",
       "      <th>angle(Y,gravityMean)</th>\n",
       "      <th>angle(Z,gravityMean)</th>\n",
       "    </tr>\n",
       "  </thead>\n",
       "  <tbody>\n",
       "    <tr>\n",
       "      <th>count</th>\n",
       "      <td>2947.000000</td>\n",
       "      <td>2947.000000</td>\n",
       "      <td>2947.000000</td>\n",
       "      <td>2947.000000</td>\n",
       "      <td>2947.000000</td>\n",
       "      <td>2947.000000</td>\n",
       "      <td>2947.000000</td>\n",
       "      <td>2947.000000</td>\n",
       "      <td>2947.000000</td>\n",
       "      <td>2947.000000</td>\n",
       "      <td>...</td>\n",
       "      <td>2947.000000</td>\n",
       "      <td>2947.000000</td>\n",
       "      <td>2947.000000</td>\n",
       "      <td>2947.000000</td>\n",
       "      <td>2947.000000</td>\n",
       "      <td>2947.000000</td>\n",
       "      <td>2947.000000</td>\n",
       "      <td>2947.000000</td>\n",
       "      <td>2947.000000</td>\n",
       "      <td>2947.000000</td>\n",
       "    </tr>\n",
       "    <tr>\n",
       "      <th>mean</th>\n",
       "      <td>0.273996</td>\n",
       "      <td>-0.017863</td>\n",
       "      <td>-0.108386</td>\n",
       "      <td>-0.613635</td>\n",
       "      <td>-0.508330</td>\n",
       "      <td>-0.633797</td>\n",
       "      <td>-0.641278</td>\n",
       "      <td>-0.522676</td>\n",
       "      <td>-0.637038</td>\n",
       "      <td>-0.462063</td>\n",
       "      <td>...</td>\n",
       "      <td>0.130236</td>\n",
       "      <td>-0.277593</td>\n",
       "      <td>-0.598756</td>\n",
       "      <td>0.005264</td>\n",
       "      <td>0.003799</td>\n",
       "      <td>0.040029</td>\n",
       "      <td>-0.017298</td>\n",
       "      <td>-0.513923</td>\n",
       "      <td>0.074886</td>\n",
       "      <td>-0.048720</td>\n",
       "    </tr>\n",
       "    <tr>\n",
       "      <th>std</th>\n",
       "      <td>0.060570</td>\n",
       "      <td>0.025745</td>\n",
       "      <td>0.042747</td>\n",
       "      <td>0.412597</td>\n",
       "      <td>0.494269</td>\n",
       "      <td>0.362699</td>\n",
       "      <td>0.385199</td>\n",
       "      <td>0.479899</td>\n",
       "      <td>0.357753</td>\n",
       "      <td>0.523916</td>\n",
       "      <td>...</td>\n",
       "      <td>0.231018</td>\n",
       "      <td>0.317245</td>\n",
       "      <td>0.311042</td>\n",
       "      <td>0.336147</td>\n",
       "      <td>0.445077</td>\n",
       "      <td>0.634989</td>\n",
       "      <td>0.501311</td>\n",
       "      <td>0.509205</td>\n",
       "      <td>0.324300</td>\n",
       "      <td>0.241467</td>\n",
       "    </tr>\n",
       "    <tr>\n",
       "      <th>min</th>\n",
       "      <td>-0.592004</td>\n",
       "      <td>-0.362884</td>\n",
       "      <td>-0.576184</td>\n",
       "      <td>-0.999606</td>\n",
       "      <td>-1.000000</td>\n",
       "      <td>-0.998955</td>\n",
       "      <td>-0.999417</td>\n",
       "      <td>-0.999914</td>\n",
       "      <td>-0.998899</td>\n",
       "      <td>-0.952357</td>\n",
       "      <td>...</td>\n",
       "      <td>-0.785543</td>\n",
       "      <td>-1.000000</td>\n",
       "      <td>-1.000000</td>\n",
       "      <td>-1.000000</td>\n",
       "      <td>-0.993402</td>\n",
       "      <td>-0.998898</td>\n",
       "      <td>-0.991096</td>\n",
       "      <td>-0.984195</td>\n",
       "      <td>-0.913704</td>\n",
       "      <td>-0.949228</td>\n",
       "    </tr>\n",
       "    <tr>\n",
       "      <th>25%</th>\n",
       "      <td>0.262075</td>\n",
       "      <td>-0.024961</td>\n",
       "      <td>-0.121162</td>\n",
       "      <td>-0.990914</td>\n",
       "      <td>-0.973664</td>\n",
       "      <td>-0.976122</td>\n",
       "      <td>-0.992333</td>\n",
       "      <td>-0.974131</td>\n",
       "      <td>-0.975352</td>\n",
       "      <td>-0.934447</td>\n",
       "      <td>...</td>\n",
       "      <td>-0.008433</td>\n",
       "      <td>-0.517494</td>\n",
       "      <td>-0.829593</td>\n",
       "      <td>-0.130541</td>\n",
       "      <td>-0.282600</td>\n",
       "      <td>-0.518924</td>\n",
       "      <td>-0.428375</td>\n",
       "      <td>-0.829722</td>\n",
       "      <td>0.022140</td>\n",
       "      <td>-0.098485</td>\n",
       "    </tr>\n",
       "    <tr>\n",
       "      <th>50%</th>\n",
       "      <td>0.277113</td>\n",
       "      <td>-0.016967</td>\n",
       "      <td>-0.108458</td>\n",
       "      <td>-0.931214</td>\n",
       "      <td>-0.790972</td>\n",
       "      <td>-0.827534</td>\n",
       "      <td>-0.937664</td>\n",
       "      <td>-0.799907</td>\n",
       "      <td>-0.817005</td>\n",
       "      <td>-0.852659</td>\n",
       "      <td>...</td>\n",
       "      <td>0.142676</td>\n",
       "      <td>-0.311023</td>\n",
       "      <td>-0.683672</td>\n",
       "      <td>0.005188</td>\n",
       "      <td>0.006767</td>\n",
       "      <td>0.047113</td>\n",
       "      <td>-0.026726</td>\n",
       "      <td>-0.729648</td>\n",
       "      <td>0.181563</td>\n",
       "      <td>-0.010671</td>\n",
       "    </tr>\n",
       "    <tr>\n",
       "      <th>75%</th>\n",
       "      <td>0.288097</td>\n",
       "      <td>-0.010143</td>\n",
       "      <td>-0.097123</td>\n",
       "      <td>-0.267395</td>\n",
       "      <td>-0.105919</td>\n",
       "      <td>-0.311432</td>\n",
       "      <td>-0.321719</td>\n",
       "      <td>-0.133488</td>\n",
       "      <td>-0.322771</td>\n",
       "      <td>-0.009965</td>\n",
       "      <td>...</td>\n",
       "      <td>0.288320</td>\n",
       "      <td>-0.083559</td>\n",
       "      <td>-0.458332</td>\n",
       "      <td>0.146200</td>\n",
       "      <td>0.288113</td>\n",
       "      <td>0.622151</td>\n",
       "      <td>0.394387</td>\n",
       "      <td>-0.545939</td>\n",
       "      <td>0.260252</td>\n",
       "      <td>0.092373</td>\n",
       "    </tr>\n",
       "    <tr>\n",
       "      <th>max</th>\n",
       "      <td>0.671887</td>\n",
       "      <td>0.246106</td>\n",
       "      <td>0.494114</td>\n",
       "      <td>0.465299</td>\n",
       "      <td>1.000000</td>\n",
       "      <td>0.489703</td>\n",
       "      <td>0.439657</td>\n",
       "      <td>1.000000</td>\n",
       "      <td>0.427958</td>\n",
       "      <td>0.786436</td>\n",
       "      <td>...</td>\n",
       "      <td>1.000000</td>\n",
       "      <td>1.000000</td>\n",
       "      <td>1.000000</td>\n",
       "      <td>0.998898</td>\n",
       "      <td>0.986347</td>\n",
       "      <td>1.000000</td>\n",
       "      <td>1.000000</td>\n",
       "      <td>0.833180</td>\n",
       "      <td>1.000000</td>\n",
       "      <td>0.973113</td>\n",
       "    </tr>\n",
       "  </tbody>\n",
       "</table>\n",
       "<p>8 rows × 561 columns</p>\n",
       "</div>"
      ],
      "text/plain": [
       "       tBodyAcc-mean()-X  tBodyAcc-mean()-Y  tBodyAcc-mean()-Z  \\\n",
       "count        2947.000000        2947.000000        2947.000000   \n",
       "mean            0.273996          -0.017863          -0.108386   \n",
       "std             0.060570           0.025745           0.042747   \n",
       "min            -0.592004          -0.362884          -0.576184   \n",
       "25%             0.262075          -0.024961          -0.121162   \n",
       "50%             0.277113          -0.016967          -0.108458   \n",
       "75%             0.288097          -0.010143          -0.097123   \n",
       "max             0.671887           0.246106           0.494114   \n",
       "\n",
       "       tBodyAcc-std()-X  tBodyAcc-std()-Y  tBodyAcc-std()-Z  tBodyAcc-mad()-X  \\\n",
       "count       2947.000000       2947.000000       2947.000000       2947.000000   \n",
       "mean          -0.613635         -0.508330         -0.633797         -0.641278   \n",
       "std            0.412597          0.494269          0.362699          0.385199   \n",
       "min           -0.999606         -1.000000         -0.998955         -0.999417   \n",
       "25%           -0.990914         -0.973664         -0.976122         -0.992333   \n",
       "50%           -0.931214         -0.790972         -0.827534         -0.937664   \n",
       "75%           -0.267395         -0.105919         -0.311432         -0.321719   \n",
       "max            0.465299          1.000000          0.489703          0.439657   \n",
       "\n",
       "       tBodyAcc-mad()-Y  tBodyAcc-mad()-Z  tBodyAcc-max()-X  \\\n",
       "count       2947.000000       2947.000000       2947.000000   \n",
       "mean          -0.522676         -0.637038         -0.462063   \n",
       "std            0.479899          0.357753          0.523916   \n",
       "min           -0.999914         -0.998899         -0.952357   \n",
       "25%           -0.974131         -0.975352         -0.934447   \n",
       "50%           -0.799907         -0.817005         -0.852659   \n",
       "75%           -0.133488         -0.322771         -0.009965   \n",
       "max            1.000000          0.427958          0.786436   \n",
       "\n",
       "               ...           fBodyBodyGyroJerkMag-meanFreq()  \\\n",
       "count          ...                               2947.000000   \n",
       "mean           ...                                  0.130236   \n",
       "std            ...                                  0.231018   \n",
       "min            ...                                 -0.785543   \n",
       "25%            ...                                 -0.008433   \n",
       "50%            ...                                  0.142676   \n",
       "75%            ...                                  0.288320   \n",
       "max            ...                                  1.000000   \n",
       "\n",
       "       fBodyBodyGyroJerkMag-skewness()  fBodyBodyGyroJerkMag-kurtosis()  \\\n",
       "count                      2947.000000                      2947.000000   \n",
       "mean                         -0.277593                        -0.598756   \n",
       "std                           0.317245                         0.311042   \n",
       "min                          -1.000000                        -1.000000   \n",
       "25%                          -0.517494                        -0.829593   \n",
       "50%                          -0.311023                        -0.683672   \n",
       "75%                          -0.083559                        -0.458332   \n",
       "max                           1.000000                         1.000000   \n",
       "\n",
       "       angle(tBodyAccMean,gravity)  angle(tBodyAccJerkMean),gravityMean)  \\\n",
       "count                  2947.000000                           2947.000000   \n",
       "mean                      0.005264                              0.003799   \n",
       "std                       0.336147                              0.445077   \n",
       "min                      -1.000000                             -0.993402   \n",
       "25%                      -0.130541                             -0.282600   \n",
       "50%                       0.005188                              0.006767   \n",
       "75%                       0.146200                              0.288113   \n",
       "max                       0.998898                              0.986347   \n",
       "\n",
       "       angle(tBodyGyroMean,gravityMean)  angle(tBodyGyroJerkMean,gravityMean)  \\\n",
       "count                       2947.000000                           2947.000000   \n",
       "mean                           0.040029                             -0.017298   \n",
       "std                            0.634989                              0.501311   \n",
       "min                           -0.998898                             -0.991096   \n",
       "25%                           -0.518924                             -0.428375   \n",
       "50%                            0.047113                             -0.026726   \n",
       "75%                            0.622151                              0.394387   \n",
       "max                            1.000000                              1.000000   \n",
       "\n",
       "       angle(X,gravityMean)  angle(Y,gravityMean)  angle(Z,gravityMean)  \n",
       "count           2947.000000           2947.000000           2947.000000  \n",
       "mean              -0.513923              0.074886             -0.048720  \n",
       "std                0.509205              0.324300              0.241467  \n",
       "min               -0.984195             -0.913704             -0.949228  \n",
       "25%               -0.829722              0.022140             -0.098485  \n",
       "50%               -0.729648              0.181563             -0.010671  \n",
       "75%               -0.545939              0.260252              0.092373  \n",
       "max                0.833180              1.000000              0.973113  \n",
       "\n",
       "[8 rows x 561 columns]"
      ]
     },
     "execution_count": 12,
     "metadata": {},
     "output_type": "execute_result"
    }
   ],
   "source": [
    "#分析数据\n",
    "test_data.describe()"
   ]
  },
  {
   "cell_type": "code",
   "execution_count": 13,
   "metadata": {},
   "outputs": [
    {
     "data": {
      "text/html": [
       "<div>\n",
       "<style scoped>\n",
       "    .dataframe tbody tr th:only-of-type {\n",
       "        vertical-align: middle;\n",
       "    }\n",
       "\n",
       "    .dataframe tbody tr th {\n",
       "        vertical-align: top;\n",
       "    }\n",
       "\n",
       "    .dataframe thead th {\n",
       "        text-align: right;\n",
       "    }\n",
       "</style>\n",
       "<table border=\"1\" class=\"dataframe\">\n",
       "  <thead>\n",
       "    <tr style=\"text-align: right;\">\n",
       "      <th></th>\n",
       "      <th>0</th>\n",
       "    </tr>\n",
       "  </thead>\n",
       "  <tbody>\n",
       "    <tr>\n",
       "      <th>count</th>\n",
       "      <td>7352.000000</td>\n",
       "    </tr>\n",
       "    <tr>\n",
       "      <th>mean</th>\n",
       "      <td>3.643362</td>\n",
       "    </tr>\n",
       "    <tr>\n",
       "      <th>std</th>\n",
       "      <td>1.744802</td>\n",
       "    </tr>\n",
       "    <tr>\n",
       "      <th>min</th>\n",
       "      <td>1.000000</td>\n",
       "    </tr>\n",
       "    <tr>\n",
       "      <th>25%</th>\n",
       "      <td>2.000000</td>\n",
       "    </tr>\n",
       "    <tr>\n",
       "      <th>50%</th>\n",
       "      <td>4.000000</td>\n",
       "    </tr>\n",
       "    <tr>\n",
       "      <th>75%</th>\n",
       "      <td>5.000000</td>\n",
       "    </tr>\n",
       "    <tr>\n",
       "      <th>max</th>\n",
       "      <td>6.000000</td>\n",
       "    </tr>\n",
       "  </tbody>\n",
       "</table>\n",
       "</div>"
      ],
      "text/plain": [
       "                 0\n",
       "count  7352.000000\n",
       "mean      3.643362\n",
       "std       1.744802\n",
       "min       1.000000\n",
       "25%       2.000000\n",
       "50%       4.000000\n",
       "75%       5.000000\n",
       "max       6.000000"
      ]
     },
     "execution_count": 13,
     "metadata": {},
     "output_type": "execute_result"
    }
   ],
   "source": [
    "#分析数据\n",
    "train_label.describe()"
   ]
  },
  {
   "cell_type": "code",
   "execution_count": 14,
   "metadata": {},
   "outputs": [
    {
     "data": {
      "text/html": [
       "<div>\n",
       "<style scoped>\n",
       "    .dataframe tbody tr th:only-of-type {\n",
       "        vertical-align: middle;\n",
       "    }\n",
       "\n",
       "    .dataframe tbody tr th {\n",
       "        vertical-align: top;\n",
       "    }\n",
       "\n",
       "    .dataframe thead th {\n",
       "        text-align: right;\n",
       "    }\n",
       "</style>\n",
       "<table border=\"1\" class=\"dataframe\">\n",
       "  <thead>\n",
       "    <tr style=\"text-align: right;\">\n",
       "      <th></th>\n",
       "      <th>0</th>\n",
       "    </tr>\n",
       "  </thead>\n",
       "  <tbody>\n",
       "    <tr>\n",
       "      <th>count</th>\n",
       "      <td>2947.000000</td>\n",
       "    </tr>\n",
       "    <tr>\n",
       "      <th>mean</th>\n",
       "      <td>3.577876</td>\n",
       "    </tr>\n",
       "    <tr>\n",
       "      <th>std</th>\n",
       "      <td>1.740348</td>\n",
       "    </tr>\n",
       "    <tr>\n",
       "      <th>min</th>\n",
       "      <td>1.000000</td>\n",
       "    </tr>\n",
       "    <tr>\n",
       "      <th>25%</th>\n",
       "      <td>2.000000</td>\n",
       "    </tr>\n",
       "    <tr>\n",
       "      <th>50%</th>\n",
       "      <td>4.000000</td>\n",
       "    </tr>\n",
       "    <tr>\n",
       "      <th>75%</th>\n",
       "      <td>5.000000</td>\n",
       "    </tr>\n",
       "    <tr>\n",
       "      <th>max</th>\n",
       "      <td>6.000000</td>\n",
       "    </tr>\n",
       "  </tbody>\n",
       "</table>\n",
       "</div>"
      ],
      "text/plain": [
       "                 0\n",
       "count  2947.000000\n",
       "mean      3.577876\n",
       "std       1.740348\n",
       "min       1.000000\n",
       "25%       2.000000\n",
       "50%       4.000000\n",
       "75%       5.000000\n",
       "max       6.000000"
      ]
     },
     "execution_count": 14,
     "metadata": {},
     "output_type": "execute_result"
    }
   ],
   "source": [
    "#分析数据\n",
    "test_label.describe()"
   ]
  },
  {
   "cell_type": "code",
   "execution_count": 15,
   "metadata": {},
   "outputs": [
    {
     "data": {
      "text/html": [
       "<div>\n",
       "<style scoped>\n",
       "    .dataframe tbody tr th:only-of-type {\n",
       "        vertical-align: middle;\n",
       "    }\n",
       "\n",
       "    .dataframe tbody tr th {\n",
       "        vertical-align: top;\n",
       "    }\n",
       "\n",
       "    .dataframe thead th {\n",
       "        text-align: right;\n",
       "    }\n",
       "</style>\n",
       "<table border=\"1\" class=\"dataframe\">\n",
       "  <thead>\n",
       "    <tr style=\"text-align: right;\">\n",
       "      <th></th>\n",
       "      <th>1</th>\n",
       "    </tr>\n",
       "  </thead>\n",
       "  <tbody>\n",
       "    <tr>\n",
       "      <th>count</th>\n",
       "      <td>6</td>\n",
       "    </tr>\n",
       "    <tr>\n",
       "      <th>unique</th>\n",
       "      <td>6</td>\n",
       "    </tr>\n",
       "    <tr>\n",
       "      <th>top</th>\n",
       "      <td>SITTING</td>\n",
       "    </tr>\n",
       "    <tr>\n",
       "      <th>freq</th>\n",
       "      <td>1</td>\n",
       "    </tr>\n",
       "  </tbody>\n",
       "</table>\n",
       "</div>"
      ],
      "text/plain": [
       "              1\n",
       "count         6\n",
       "unique        6\n",
       "top     SITTING\n",
       "freq          1"
      ]
     },
     "execution_count": 15,
     "metadata": {},
     "output_type": "execute_result"
    }
   ],
   "source": [
    "#分析数据\n",
    "label_name.describe()"
   ]
  },
  {
   "cell_type": "code",
   "execution_count": 16,
   "metadata": {},
   "outputs": [
    {
     "data": {
      "text/plain": [
       "tBodyAcc-mean()-X                       0\n",
       "tBodyAcc-mean()-Y                       0\n",
       "tBodyAcc-mean()-Z                       0\n",
       "tBodyAcc-std()-X                        0\n",
       "tBodyAcc-std()-Y                        0\n",
       "tBodyAcc-std()-Z                        0\n",
       "tBodyAcc-mad()-X                        0\n",
       "tBodyAcc-mad()-Y                        0\n",
       "tBodyAcc-mad()-Z                        0\n",
       "tBodyAcc-max()-X                        0\n",
       "tBodyAcc-max()-Y                        0\n",
       "tBodyAcc-max()-Z                        0\n",
       "tBodyAcc-min()-X                        0\n",
       "tBodyAcc-min()-Y                        0\n",
       "tBodyAcc-min()-Z                        0\n",
       "tBodyAcc-sma()                          0\n",
       "tBodyAcc-energy()-X                     0\n",
       "tBodyAcc-energy()-Y                     0\n",
       "tBodyAcc-energy()-Z                     0\n",
       "tBodyAcc-iqr()-X                        0\n",
       "tBodyAcc-iqr()-Y                        0\n",
       "tBodyAcc-iqr()-Z                        0\n",
       "tBodyAcc-entropy()-X                    0\n",
       "tBodyAcc-entropy()-Y                    0\n",
       "tBodyAcc-entropy()-Z                    0\n",
       "tBodyAcc-arCoeff()-X,1                  0\n",
       "tBodyAcc-arCoeff()-X,2                  0\n",
       "tBodyAcc-arCoeff()-X,3                  0\n",
       "tBodyAcc-arCoeff()-X,4                  0\n",
       "tBodyAcc-arCoeff()-Y,1                  0\n",
       "                                       ..\n",
       "fBodyBodyGyroMag-max()                  0\n",
       "fBodyBodyGyroMag-min()                  0\n",
       "fBodyBodyGyroMag-sma()                  0\n",
       "fBodyBodyGyroMag-energy()               0\n",
       "fBodyBodyGyroMag-iqr()                  0\n",
       "fBodyBodyGyroMag-entropy()              0\n",
       "fBodyBodyGyroMag-maxInds                0\n",
       "fBodyBodyGyroMag-meanFreq()             0\n",
       "fBodyBodyGyroMag-skewness()             0\n",
       "fBodyBodyGyroMag-kurtosis()             0\n",
       "fBodyBodyGyroJerkMag-mean()             0\n",
       "fBodyBodyGyroJerkMag-std()              0\n",
       "fBodyBodyGyroJerkMag-mad()              0\n",
       "fBodyBodyGyroJerkMag-max()              0\n",
       "fBodyBodyGyroJerkMag-min()              0\n",
       "fBodyBodyGyroJerkMag-sma()              0\n",
       "fBodyBodyGyroJerkMag-energy()           0\n",
       "fBodyBodyGyroJerkMag-iqr()              0\n",
       "fBodyBodyGyroJerkMag-entropy()          0\n",
       "fBodyBodyGyroJerkMag-maxInds            0\n",
       "fBodyBodyGyroJerkMag-meanFreq()         0\n",
       "fBodyBodyGyroJerkMag-skewness()         0\n",
       "fBodyBodyGyroJerkMag-kurtosis()         0\n",
       "angle(tBodyAccMean,gravity)             0\n",
       "angle(tBodyAccJerkMean),gravityMean)    0\n",
       "angle(tBodyGyroMean,gravityMean)        0\n",
       "angle(tBodyGyroJerkMean,gravityMean)    0\n",
       "angle(X,gravityMean)                    0\n",
       "angle(Y,gravityMean)                    0\n",
       "angle(Z,gravityMean)                    0\n",
       "Length: 561, dtype: int64"
      ]
     },
     "execution_count": 16,
     "metadata": {},
     "output_type": "execute_result"
    }
   ],
   "source": [
    "train_data.isnull().sum()\n",
    "#没有缺失值"
   ]
  },
  {
   "cell_type": "code",
   "execution_count": 17,
   "metadata": {},
   "outputs": [
    {
     "data": {
      "text/plain": [
       "tBodyAcc-mean()-X                       0\n",
       "tBodyAcc-mean()-Y                       0\n",
       "tBodyAcc-mean()-Z                       0\n",
       "tBodyAcc-std()-X                        0\n",
       "tBodyAcc-std()-Y                        0\n",
       "tBodyAcc-std()-Z                        0\n",
       "tBodyAcc-mad()-X                        0\n",
       "tBodyAcc-mad()-Y                        0\n",
       "tBodyAcc-mad()-Z                        0\n",
       "tBodyAcc-max()-X                        0\n",
       "tBodyAcc-max()-Y                        0\n",
       "tBodyAcc-max()-Z                        0\n",
       "tBodyAcc-min()-X                        0\n",
       "tBodyAcc-min()-Y                        0\n",
       "tBodyAcc-min()-Z                        0\n",
       "tBodyAcc-sma()                          0\n",
       "tBodyAcc-energy()-X                     0\n",
       "tBodyAcc-energy()-Y                     0\n",
       "tBodyAcc-energy()-Z                     0\n",
       "tBodyAcc-iqr()-X                        0\n",
       "tBodyAcc-iqr()-Y                        0\n",
       "tBodyAcc-iqr()-Z                        0\n",
       "tBodyAcc-entropy()-X                    0\n",
       "tBodyAcc-entropy()-Y                    0\n",
       "tBodyAcc-entropy()-Z                    0\n",
       "tBodyAcc-arCoeff()-X,1                  0\n",
       "tBodyAcc-arCoeff()-X,2                  0\n",
       "tBodyAcc-arCoeff()-X,3                  0\n",
       "tBodyAcc-arCoeff()-X,4                  0\n",
       "tBodyAcc-arCoeff()-Y,1                  0\n",
       "                                       ..\n",
       "fBodyBodyGyroMag-max()                  0\n",
       "fBodyBodyGyroMag-min()                  0\n",
       "fBodyBodyGyroMag-sma()                  0\n",
       "fBodyBodyGyroMag-energy()               0\n",
       "fBodyBodyGyroMag-iqr()                  0\n",
       "fBodyBodyGyroMag-entropy()              0\n",
       "fBodyBodyGyroMag-maxInds                0\n",
       "fBodyBodyGyroMag-meanFreq()             0\n",
       "fBodyBodyGyroMag-skewness()             0\n",
       "fBodyBodyGyroMag-kurtosis()             0\n",
       "fBodyBodyGyroJerkMag-mean()             0\n",
       "fBodyBodyGyroJerkMag-std()              0\n",
       "fBodyBodyGyroJerkMag-mad()              0\n",
       "fBodyBodyGyroJerkMag-max()              0\n",
       "fBodyBodyGyroJerkMag-min()              0\n",
       "fBodyBodyGyroJerkMag-sma()              0\n",
       "fBodyBodyGyroJerkMag-energy()           0\n",
       "fBodyBodyGyroJerkMag-iqr()              0\n",
       "fBodyBodyGyroJerkMag-entropy()          0\n",
       "fBodyBodyGyroJerkMag-maxInds            0\n",
       "fBodyBodyGyroJerkMag-meanFreq()         0\n",
       "fBodyBodyGyroJerkMag-skewness()         0\n",
       "fBodyBodyGyroJerkMag-kurtosis()         0\n",
       "angle(tBodyAccMean,gravity)             0\n",
       "angle(tBodyAccJerkMean),gravityMean)    0\n",
       "angle(tBodyGyroMean,gravityMean)        0\n",
       "angle(tBodyGyroJerkMean,gravityMean)    0\n",
       "angle(X,gravityMean)                    0\n",
       "angle(Y,gravityMean)                    0\n",
       "angle(Z,gravityMean)                    0\n",
       "Length: 561, dtype: int64"
      ]
     },
     "execution_count": 17,
     "metadata": {},
     "output_type": "execute_result"
    }
   ],
   "source": [
    "test_data.isnull().sum()\n",
    "#没有缺失值"
   ]
  },
  {
   "cell_type": "code",
   "execution_count": 18,
   "metadata": {},
   "outputs": [],
   "source": [
    "train_data['label']=train_label\n",
    "test_data['label']=test_label"
   ]
  },
  {
   "cell_type": "code",
   "execution_count": 19,
   "metadata": {},
   "outputs": [],
   "source": [
    "def get_label_name(num):\n",
    "    return label_name.iloc[num-1,0]#在原来的标签号基础上减一\n",
    "train_data['label_name']=train_data['label'].map(get_label_name)\n",
    "test_data['label_name']=test_data['label'].map(get_label_name)"
   ]
  },
  {
   "cell_type": "code",
   "execution_count": 20,
   "metadata": {},
   "outputs": [],
   "source": [
    "#原来标签为1-6，而算法需要0-5\n",
    "train_data['label']=train_data['label']-1\n",
    "test_data['label']=test_data['label']-1"
   ]
  },
  {
   "cell_type": "markdown",
   "metadata": {},
   "source": [
    "观察每个分类的数量"
   ]
  },
  {
   "cell_type": "code",
   "execution_count": 21,
   "metadata": {},
   "outputs": [
    {
     "data": {
      "text/plain": [
       "<matplotlib.axes._subplots.AxesSubplot at 0x20ef29de8d0>"
      ]
     },
     "execution_count": 21,
     "metadata": {},
     "output_type": "execute_result"
    },
    {
     "data": {
      "image/png": "[encoded data removed]",
      "text/plain": [
       "<matplotlib.figure.Figure at 0x20ef289a9b0>"
      ]
     },
     "metadata": {
      "needs_background": "light"
     },
     "output_type": "display_data"
    }
   ],
   "source": [
    "train_data['label_name'].value_counts().plot(kind='bar', title='activity type')"
   ]
  },
  {
   "cell_type": "code",
   "execution_count": 22,
   "metadata": {},
   "outputs": [
    {
     "data": {
      "text/plain": [
       "<matplotlib.axes._subplots.AxesSubplot at 0x20ef4a36710>"
      ]
     },
     "execution_count": 22,
     "metadata": {},
     "output_type": "execute_result"
    },
    {
     "data": {
      "image/png": "[encoded data removed]",
      "text/plain": [
       "<matplotlib.figure.Figure at 0x20ef4b920f0>"
      ]
     },
     "metadata": {
      "needs_background": "light"
     },
     "output_type": "display_data"
    }
   ],
   "source": [
    "test_data['label_name'].value_counts().plot(kind='bar', title='activity type')"
   ]
  },
  {
   "cell_type": "code",
   "execution_count": 23,
   "metadata": {},
   "outputs": [],
   "source": [
    "#可知训练集和测试集类别数据分布差不多"
   ]
  },
  {
   "cell_type": "code",
   "execution_count": 24,
   "metadata": {},
   "outputs": [],
   "source": [
    "#制作训练集和测试集，使格式符合sklean算法要求\n",
    "x_train=train_data.iloc[:,:-2].values\n",
    "x_test=train_data.iloc[:,-2].values\n",
    "y_train=test_data.iloc[:,:-2].values\n",
    "y_test=test_data.iloc[:,-2].values"
   ]
  },
  {
   "cell_type": "code",
   "execution_count": 25,
   "metadata": {},
   "outputs": [
    {
     "data": {
      "image/png": "[encoded data removed]",
      "text/plain": [
       "<matplotlib.figure.Figure at 0x20ef3dfa0b8>"
      ]
     },
     "metadata": {
      "needs_background": "light"
     },
     "output_type": "display_data"
    }
   ],
   "source": [
    "#对数据进行降维可视化\n",
    "#使用t-sne进行可视化分析\n",
    "from sklearn.manifold import TSNE\n",
    "tsne=TSNE(n_components=2)#调入t-sne(将数据降成二维)\n",
    "out=tsne.fit_transform(x_train)#使用t-sne，处理数据\n",
    "plt.scatter(out[:, 0], out[:, 1], c=x_test,cmap='jet')#画图\n",
    "plt.axis('off')\n",
    "plt.colorbar()\n",
    "plt.show()"
   ]
  },
  {
   "cell_type": "code",
   "execution_count": 26,
   "metadata": {},
   "outputs": [],
   "source": [
    "#由图可知，第三类和第三四类不好区分，重叠区域较多"
   ]
  },
  {
   "cell_type": "code",
   "execution_count": 27,
   "metadata": {},
   "outputs": [
    {
     "name": "stdout",
     "output_type": "stream",
     "text": [
      "0.99\n"
     ]
    }
   ],
   "source": [
    "#PCA方法\n",
    "from sklearn.decomposition import PCA\n",
    "pca = PCA(.99)#建立pca模型\n",
    "X2D = pca.fit_transform(x_train)#使用pca，处理数据，训练并降维\n",
    "radtio=pca.explained_variance_ratio_#画图，每个主成成分占方差比例\n",
    "print(pca.n_components)#n_components指示主成成分有有的元素数量"
   ]
  },
  {
   "cell_type": "code",
   "execution_count": 28,
   "metadata": {},
   "outputs": [
    {
     "data": {
      "image/png": "[encoded data removed]",
      "text/plain": [
       "<matplotlib.figure.Figure at 0x1983cf212e8>"
      ]
     },
     "metadata": {
      "needs_background": "light"
     },
     "output_type": "display_data"
    }
   ],
   "source": [
    "plt.scatter(X2D[:, 0], X2D[:, 1], c=x_test,cmap='jet')\n",
    "plt.axis('off')\n",
    "plt.colorbar()\n",
    "plt.show()"
   ]
  },
  {
   "cell_type": "code",
   "execution_count": 29,
   "metadata": {},
   "outputs": [],
   "source": [
    "#pca降维，失去了结构信息，而t-sne使属于流形学习，能将高维流形映射到低维空间，保留了结构，因此更加直观，但是大致可以看出3和4,5不好区分"
   ]
  },
  {
   "cell_type": "code",
   "execution_count": 30,
   "metadata": {},
   "outputs": [],
   "source": [
    "#对某一个特征观察分布，输入特征列名字即可\n",
    "#seaborn是matplotlib的补充，以matplotlib为底层\n",
    "import seaborn as sns\n",
    "def plot_feature(feature_name):#想分析哪个特征，就将特征名输入函数即可\n",
    "    plt.figure(figsize=(10,5))\n",
    "    plt.title(\"Sensor data distribution for all label\")\n",
    "    class_indexs=list(label_name.values.ravel())#得到所有类别\n",
    "    for class_index in class_indexs:#根据类别，画出\n",
    "        sns.distplot(train_data[train_data['label_name']==class_index][feature_name], label=class_index)\n",
    "    plt.legend()#给图像加上图例\n",
    "    plt.show()# plots the distribution of all the columns of both left and wright wrist"
   ]
  },
  {
   "cell_type": "code",
   "execution_count": 31,
   "metadata": {},
   "outputs": [
    {
     "data": {
      "image/png": "[encoded data removed]",
      "text/plain": [
       "<matplotlib.figure.Figure at 0x1983d252550>"
      ]
     },
     "metadata": {
      "needs_background": "light"
     },
     "output_type": "display_data"
    }
   ],
   "source": [
    "plot_feature('tBodyAcc-mean()-X')"
   ]
  },
  {
   "cell_type": "code",
   "execution_count": 32,
   "metadata": {},
   "outputs": [
    {
     "data": {
      "image/png": "[encoded data removed]",
      "text/plain": [
       "<matplotlib.figure.Figure at 0x1983cd08438>"
      ]
     },
     "metadata": {
      "needs_background": "light"
     },
     "output_type": "display_data"
    }
   ],
   "source": [
    "plot_feature('tBodyAcc-energy()-X')"
   ]
  },
  {
   "cell_type": "code",
   "execution_count": 33,
   "metadata": {},
   "outputs": [
    {
     "data": {
      "image/png": "[encoded data removed]",
      "text/plain": [
       "<matplotlib.figure.Figure at 0x1983d6952b0>"
      ]
     },
     "metadata": {
      "needs_background": "light"
     },
     "output_type": "display_data"
    }
   ],
   "source": [
    "plot_feature('angle(X,gravityMean)')"
   ]
  },
  {
   "cell_type": "markdown",
   "metadata": {},
   "source": [
    "训练模型"
   ]
  },
  {
   "cell_type": "markdown",
   "metadata": {},
   "source": [
    "逻辑回归"
   ]
  },
  {
   "cell_type": "code",
   "execution_count": 34,
   "metadata": {},
   "outputs": [],
   "source": [
    "from sklearn.metrics import confusion_matrix   #从sklearn.metrics中调用混淆矩阵计算真实值与预测值之间的误差\n",
    "from sklearn.metrics import make_scorer,classification_report   #\n",
    "from sklearn.externals import joblib\n",
    "#实现一个评估模型性能的函数，基于混淆矩阵可视化\n",
    "\n",
    "def plt_model(true_label,predict):\n",
    "    confusion_mat=confusion_matrix(true_label,predict)#生成混淆矩阵\n",
    "    plt.imshow(confusion_mat,cmap=plt.cm.Paired) #可视化混淆矩阵（cmap配色风格）\n",
    "    plt.title('Confusion Matrix')\n",
    "    plt.colorbar()\n",
    "    tick_marks=list(range(confusion_mat.shape[0]))\n",
    "    plt.xticks(tick_marks,tick_marks)\n",
    "    plt.yticks(tick_marks,tick_marks)\n",
    "    plt.ylabel('True Label')\n",
    "    plt.xlabel('Predicted Label')\n",
    "    for first_index in range(confusion_mat.shape[0]):#在图上标注分类样本数目\n",
    "        for second_index in range(confusion_mat.shape[0]):\n",
    "            plt.text(first_index, second_index, confusion_mat[second_index][first_index])\n",
    "    plt.show()\n",
    "    \n",
    "from sklearn.metrics import precision_score,recall_score,f1_score,roc_auc_score\n",
    "def score_model(pre,test_neg_label):#输出几种评分\n",
    "    precision_scores=precision_score(pre,test_neg_label)\n",
    "    recall_scores=recall_score(pre,test_neg_label)\n",
    "    f1_scores=f1_score(pre,test_neg_label)\n",
    "    roc_scores=roc_auc_score(pre,test_neg_label)\n",
    "    print('precision_score:'+str(precision_scores))\n",
    "    print('recall_score:'+str(recall_scores))\n",
    "    print('f1_score:'+str(f1_scores))\n",
    "    print('roc_scores:'+str(roc_scores))"
   ]
  },
  {
   "cell_type": "code",
   "execution_count": 35,
   "metadata": {},
   "outputs": [
    {
     "name": "stdout",
     "output_type": "stream",
     "text": [
      "Fitting 10 folds for each of 18 candidates, totalling 180 fits\n"
     ]
    },
    {
     "name": "stderr",
     "output_type": "stream",
     "text": [
      "[Parallel(n_jobs=-1)]: Using backend LokyBackend with 4 concurrent workers.\n",
      "[Parallel(n_jobs=-1)]: Done  17 tasks      | elapsed:   41.6s\n",
      "[Parallel(n_jobs=-1)]: Done  90 tasks      | elapsed:  4.5min\n",
      "[Parallel(n_jobs=-1)]: Done 180 out of 180 | elapsed: 10.3min finished\n"
     ]
    },
    {
     "data": {
      "text/plain": [
       "GridSearchCV(cv=10, error_score='raise-deprecating',\n",
       "       estimator=LogisticRegression(C=1.0, class_weight=None, dual=False, fit_intercept=True,\n",
       "          intercept_scaling=1, max_iter=100, multi_class='warn',\n",
       "          n_jobs=None, penalty='l2', random_state=None, solver='warn',\n",
       "          tol=0.0001, verbose=0, warm_start=False),\n",
       "       fit_params=None, iid='warn', n_jobs=-1,\n",
       "       param_grid={'C': array([1, 2, 3, 4, 5, 6, 7, 8, 9]), 'penalty': ['l1', 'l2']},\n",
       "       pre_dispatch='2*n_jobs', refit=True, return_train_score='warn',\n",
       "       scoring=None, verbose=4)"
      ]
     },
     "execution_count": 35,
     "metadata": {},
     "output_type": "execute_result"
    }
   ],
   "source": [
    "#逻辑回归调参\n",
    "from sklearn.linear_model import LogisticRegression\n",
    "from sklearn.model_selection import GridSearchCV\n",
    "clf=LogisticRegression()#建立逻辑回归模型\n",
    "\n",
    "#我们调节penalty和c两个参数\n",
    "penalty=['l1','l2']   #正则化参数，l1绝对值度量，l2平方度量\n",
    "c_range=np.arange(1,10,1)\n",
    "param_grid = {'C':c_range,'penalty':penalty}\n",
    "#建立格子搜索器，遍历参数集合，选择最好的参数\n",
    "gs=GridSearchCV(clf,param_grid=param_grid,cv=10,verbose=4,n_jobs=-1)#cv是n折交叉验证,n_jobs是线程并行化\n",
    "gs.fit(x_train,x_test)"
   ]
  },
  {
   "cell_type": "code",
   "execution_count": 36,
   "metadata": {},
   "outputs": [
    {
     "name": "stdout",
     "output_type": "stream",
     "text": [
      "0.9536180631120783\n",
      "最佳参数：\n",
      "{'C': 3, 'penalty': 'l1'}\n"
     ]
    },
    {
     "data": {
      "text/plain": [
       "['best_gs_logist.m']"
      ]
     },
     "execution_count": 36,
     "metadata": {},
     "output_type": "execute_result"
    }
   ],
   "source": [
    "best_score=gs.best_score_#取得最佳分数\n",
    "bese_pa=gs.best_params_#取得最佳参数\n",
    "best_gs=gs.best_estimator_#取得最佳分类器\n",
    "print(best_score)\n",
    "print(\"最佳参数：\")\n",
    "print(bese_pa)\n",
    "joblib.dump(best_gs,'best_gs_logist.m')"
   ]
  },
  {
   "cell_type": "code",
   "execution_count": 37,
   "metadata": {},
   "outputs": [],
   "source": [
    "best_gs=joblib.load('best_gs_logist.m')"
   ]
  },
  {
   "cell_type": "code",
   "execution_count": 38,
   "metadata": {},
   "outputs": [
    {
     "data": {
      "image/png": "[encoded data removed]",
      "text/plain": [
       "<matplotlib.figure.Figure at 0x1983cebb6d8>"
      ]
     },
     "metadata": {
      "needs_background": "light"
     },
     "output_type": "display_data"
    }
   ],
   "source": [
    "pre_label=best_gs.predict(y_train)#预测\n",
    "plt_model(y_test,pre_label)#画混淆矩阵"
   ]
  },
  {
   "cell_type": "code",
   "execution_count": 39,
   "metadata": {},
   "outputs": [
    {
     "name": "stdout",
     "output_type": "stream",
     "text": [
      "准确率：0.9630132337970818\n"
     ]
    }
   ],
   "source": [
    "print('准确率：'+str(best_gs.score(y_train,y_test)))#输出准确率"
   ]
  },
  {
   "cell_type": "code",
   "execution_count": 40,
   "metadata": {},
   "outputs": [
    {
     "name": "stdout",
     "output_type": "stream",
     "text": [
      "              precision    recall  f1-score   support\n",
      "\n",
      "           0       0.95      0.99      0.97       496\n",
      "           1       0.97      0.96      0.97       471\n",
      "           2       1.00      0.98      0.99       420\n",
      "           3       0.98      0.87      0.92       491\n",
      "           4       0.90      0.98      0.94       532\n",
      "           5       1.00      1.00      1.00       537\n",
      "\n",
      "   micro avg       0.96      0.96      0.96      2947\n",
      "   macro avg       0.97      0.96      0.96      2947\n",
      "weighted avg       0.96      0.96      0.96      2947\n",
      "\n"
     ]
    }
   ],
   "source": [
    "print(classification_report(y_test,pre_label))#输出各个类别准确率报告"
   ]
  },
  {
   "cell_type": "code",
   "execution_count": 41,
   "metadata": {},
   "outputs": [],
   "source": [
    "#从上图可知，第3类和第4类不易分开，错误最集中，和可视化分析结果一致"
   ]
  },
  {
   "cell_type": "code",
   "execution_count": 42,
   "metadata": {},
   "outputs": [],
   "source": [
    "#分析逻辑回归中影响最大的几个特征，逻辑回归中的特征重要性评估不是特别精确，不如随机森林的特征重要性\n",
    "coef=best_gs.coef_"
   ]
  },
  {
   "cell_type": "code",
   "execution_count": 43,
   "metadata": {},
   "outputs": [
    {
     "data": {
      "text/plain": [
       "array([[ 0.        ,  0.        ,  0.        , ...,  0.        ,\n",
       "         0.        ,  0.        ],\n",
       "       [-0.93573791,  0.        ,  0.        , ...,  0.01147037,\n",
       "         0.        ,  0.        ],\n",
       "       [ 2.38083874,  0.        ,  0.        , ..., -0.34022829,\n",
       "         0.        ,  0.        ],\n",
       "       [ 0.        ,  0.        ,  0.        , ..., -3.4888943 ,\n",
       "         0.        ,  0.        ],\n",
       "       [ 0.        ,  0.        ,  0.        , ..., -2.49079128,\n",
       "         0.        ,  0.        ],\n",
       "       [ 0.        ,  0.        ,  0.        , ...,  2.68409972,\n",
       "         0.        ,  0.        ]])"
      ]
     },
     "execution_count": 43,
     "metadata": {},
     "output_type": "execute_result"
    }
   ],
   "source": [
    "coef"
   ]
  },
  {
   "cell_type": "code",
   "execution_count": 44,
   "metadata": {},
   "outputs": [
    {
     "data": {
      "text/plain": [
       "(6, 561)"
      ]
     },
     "execution_count": 44,
     "metadata": {},
     "output_type": "execute_result"
    }
   ],
   "source": [
    "coef.shape#由于采取one vs all处理多类别，我们观察每一个分类器影响前三的特征，首先对系数绝对值"
   ]
  },
  {
   "cell_type": "code",
   "execution_count": 45,
   "metadata": {},
   "outputs": [
    {
     "name": "stdout",
     "output_type": "stream",
     "text": [
      "第1分类器前三特征：\n",
      "tBodyAcc-correlation()-X,Y   :0.0\n",
      "tBodyGyroJerk-correlation()-X,Z   :0.0\n",
      "tBodyAccJerk-entropy()-Z   :0.0\n",
      "第2分类器前三特征：\n",
      "tGravityAcc-max()-Y   :-0.9357379105086268\n",
      "tBodyGyroJerk-arCoeff()-Z,1   :0.0\n",
      "tBodyGyroJerk-arCoeff()-Z,2   :0.0\n",
      "第3分类器前三特征：\n",
      "tBodyAcc-correlation()-X,Y   :2.3808387378506572\n",
      "tBodyAcc-entropy()-Z   :0.0\n",
      "tBodyAcc-arCoeff()-X,4   :0.0\n",
      "第4分类器前三特征：\n",
      "tBodyGyroJerk-entropy()-X   :0.0\n",
      "tGravityAcc-mean()-Y   :0.0\n",
      "tBodyGyroJerk-arCoeff()-X,2   :0.0\n",
      "第5分类器前三特征：\n",
      "tBodyGyroJerk-entropy()-X   :0.0\n",
      "tGravityAcc-mean()-Y   :0.0\n",
      "tBodyGyroJerk-arCoeff()-X,2   :0.0\n",
      "第6分类器前三特征：\n",
      "tGravityAcc-mean()-X   :0.0\n",
      "tGravityAcc-min()-X   :0.0\n",
      "tGravityAcc-energy()-X   :0.0\n"
     ]
    }
   ],
   "source": [
    "coef_abs=np.abs(coef)\n",
    "indexs=np.argsort(-coef_abs, axis=1)#降序排列\n",
    "cols=list(train_data.columns)\n",
    "for i in range(6):\n",
    "    print('第'+str(i+1)+'分类器前三特征：')\n",
    "    for j in range(3):\n",
    "        print(cols[indexs[i,j]]+'   :'+str(coef[i,j]))"
   ]
  },
  {
   "cell_type": "code",
   "execution_count": 46,
   "metadata": {},
   "outputs": [
    {
     "data": {
      "image/png": "[encoded data removed]",
      "text/plain": [
       "<matplotlib.figure.Figure at 0x1983d7af550>"
      ]
     },
     "metadata": {
      "needs_background": "light"
     },
     "output_type": "display_data"
    }
   ],
   "source": [
    "plot_feature('tBodyAcc-correlation()-X,Y')"
   ]
  },
  {
   "cell_type": "code",
   "execution_count": 47,
   "metadata": {},
   "outputs": [],
   "source": [
    "#可以看出warking和其他特征的分布有明显差异，峰很高，容易区分第一类和非第一类"
   ]
  },
  {
   "cell_type": "code",
   "execution_count": 48,
   "metadata": {},
   "outputs": [
    {
     "data": {
      "image/png": "[encoded data removed]",
      "text/plain": [
       "<matplotlib.figure.Figure at 0x1983d80e0b8>"
      ]
     },
     "metadata": {
      "needs_background": "light"
     },
     "output_type": "display_data"
    }
   ],
   "source": [
    "plot_feature('tGravityAcc-mean()-X')"
   ]
  },
  {
   "cell_type": "code",
   "execution_count": 49,
   "metadata": {},
   "outputs": [],
   "source": [
    "#第6类在这个特征上和其他类完全不一样"
   ]
  },
  {
   "cell_type": "markdown",
   "metadata": {},
   "source": [
    "梯度提升树"
   ]
  },
  {
   "cell_type": "code",
   "execution_count": 50,
   "metadata": {},
   "outputs": [
    {
     "name": "stdout",
     "output_type": "stream",
     "text": [
      "Fitting 10 folds for each of 60 candidates, totalling 600 fits\n"
     ]
    },
    {
     "name": "stderr",
     "output_type": "stream",
     "text": [
      "[Parallel(n_jobs=-1)]: Using backend LokyBackend with 4 concurrent workers.\n",
      "[Parallel(n_jobs=-1)]: Done  17 tasks      | elapsed:   32.6s\n",
      "[Parallel(n_jobs=-1)]: Done  90 tasks      | elapsed:  2.8min\n",
      "[Parallel(n_jobs=-1)]: Done 213 tasks      | elapsed:  6.6min\n",
      "[Parallel(n_jobs=-1)]: Done 384 tasks      | elapsed: 11.8min\n",
      "[Parallel(n_jobs=-1)]: Done 600 out of 600 | elapsed: 19.3min finished\n"
     ]
    },
    {
     "data": {
      "text/plain": [
       "GridSearchCV(cv=10, error_score='raise-deprecating',\n",
       "       estimator=AdaBoostClassifier(algorithm='SAMME.R',\n",
       "          base_estimator=DecisionTreeClassifier(class_weight=None, criterion='gini', max_depth=None,\n",
       "            max_features=None, max_leaf_nodes=None,\n",
       "            min_impurity_decrease=0.0, min_impurity_split=None,\n",
       "            min_samples_leaf=1, min_samples_split=2,\n",
       "            min_weight_fraction_leaf=0.0, presort=False, random_state=None,\n",
       "            splitter='best'),\n",
       "          learning_rate=1.0, n_estimators=50, random_state=None),\n",
       "       fit_params=None, iid='warn', n_jobs=-1,\n",
       "       param_grid={'n_estimators': array([100, 150, 200, 250, 300, 350]), 'learning_rate': array([0.01, 0.03, 0.05, 0.07, 0.09, 0.11, 0.13, 0.15, 0.17, 0.19])},\n",
       "       pre_dispatch='2*n_jobs', refit=True, return_train_score='warn',\n",
       "       scoring=None, verbose=4)"
      ]
     },
     "execution_count": 50,
     "metadata": {},
     "output_type": "execute_result"
    }
   ],
   "source": [
    "from sklearn.ensemble import AdaBoostClassifier\n",
    "from sklearn.tree import DecisionTreeClassifier\n",
    "from sklearn.model_selection import GridSearchCV\n",
    "estimator=np.arange(100,400,50)\n",
    "learning_rate=np.arange(0.01,0.2,0.02)\n",
    "param_grid={'n_estimators':estimator,'learning_rate':learning_rate}\n",
    "tree = DecisionTreeClassifier()\n",
    "ada = AdaBoostClassifier(base_estimator=tree)\n",
    "gs=GridSearchCV(estimator=ada,param_grid=param_grid,cv=10,verbose=4,n_jobs=-1)\n",
    "gs.fit(x_train,x_test)"
   ]
  },
  {
   "cell_type": "code",
   "execution_count": 51,
   "metadata": {},
   "outputs": [
    {
     "name": "stdout",
     "output_type": "stream",
     "text": [
      "0.8717355821545157\n",
      "最佳参数：\n",
      "{'learning_rate': 0.12999999999999998, 'n_estimators': 100}\n"
     ]
    },
    {
     "data": {
      "text/plain": [
       "['best_gs_adaboost.m']"
      ]
     },
     "execution_count": 51,
     "metadata": {},
     "output_type": "execute_result"
    }
   ],
   "source": [
    "best_score=gs.best_score_\n",
    "bese_pa=gs.best_params_\n",
    "best_gs=gs.best_estimator_\n",
    "print(best_score)\n",
    "print(\"最佳参数：\")\n",
    "print(bese_pa)\n",
    "joblib.dump(best_gs,'best_gs_adaboost.m')"
   ]
  },
  {
   "cell_type": "code",
   "execution_count": 52,
   "metadata": {},
   "outputs": [
    {
     "data": {
      "image/png": "[encoded data removed]",
      "text/plain": [
       "<matplotlib.figure.Figure at 0x198430941d0>"
      ]
     },
     "metadata": {
      "needs_background": "light"
     },
     "output_type": "display_data"
    }
   ],
   "source": [
    "#在测试集上验证\n",
    "pre_label=best_gs.predict(y_train)\n",
    "plt_model(y_test,pre_label)"
   ]
  },
  {
   "cell_type": "code",
   "execution_count": 53,
   "metadata": {},
   "outputs": [
    {
     "name": "stdout",
     "output_type": "stream",
     "text": [
      "0.8554462164913471\n"
     ]
    }
   ],
   "source": [
    "print(best_gs.score(y_train,y_test))"
   ]
  },
  {
   "cell_type": "markdown",
   "metadata": {},
   "source": [
    "随机森林"
   ]
  },
  {
   "cell_type": "code",
   "execution_count": 54,
   "metadata": {},
   "outputs": [
    {
     "name": "stdout",
     "output_type": "stream",
     "text": [
      "Fitting 10 folds for each of 8 candidates, totalling 80 fits\n"
     ]
    },
    {
     "name": "stderr",
     "output_type": "stream",
     "text": [
      "[Parallel(n_jobs=-1)]: Using backend LokyBackend with 4 concurrent workers.\n",
      "[Parallel(n_jobs=-1)]: Done  17 tasks      | elapsed:   37.8s\n",
      "[Parallel(n_jobs=-1)]: Done  80 out of  80 | elapsed:  4.1min finished\n"
     ]
    },
    {
     "data": {
      "text/plain": [
       "GridSearchCV(cv=10, error_score='raise-deprecating',\n",
       "       estimator=RandomForestClassifier(bootstrap=True, class_weight=None, criterion='gini',\n",
       "            max_depth=None, max_features=None, max_leaf_nodes=None,\n",
       "            min_impurity_decrease=0.0, min_impurity_split=None,\n",
       "            min_samples_leaf=1, min_samples_split=2,\n",
       "            min_weight_fraction_leaf=0.0, n_estimators='warn', n_jobs=None,\n",
       "            oob_score=False, random_state=0, verbose=0, warm_start=False),\n",
       "       fit_params=None, iid='warn', n_jobs=-1,\n",
       "       param_grid={'n_estimators': array([ 20,  60, 100, 140]), 'max_features': ['sqrt', 'log2']},\n",
       "       pre_dispatch='2*n_jobs', refit=True, return_train_score='warn',\n",
       "       scoring=None, verbose=4)"
      ]
     },
     "execution_count": 54,
     "metadata": {},
     "output_type": "execute_result"
    }
   ],
   "source": [
    "from sklearn.ensemble import RandomForestClassifier\n",
    "from sklearn.model_selection import GridSearchCV\n",
    "#对max_features和n_estimators进行选择\n",
    "clf = RandomForestClassifier(max_features=None,random_state=0)\n",
    "estimator=np.arange(20,160,40)\n",
    "my_max_features = [ \"sqrt\", \"log2\"]\n",
    "param_grid={'n_estimators':estimator,\"max_features\":my_max_features}\n",
    "gs=GridSearchCV(estimator=clf,param_grid=param_grid,cv=10,verbose=4,n_jobs=-1)\n",
    "gs.fit(x_train,x_test)"
   ]
  },
  {
   "cell_type": "code",
   "execution_count": 55,
   "metadata": {},
   "outputs": [
    {
     "name": "stdout",
     "output_type": "stream",
     "text": [
      "0.9420565832426551\n",
      "最佳参数：\n",
      "{'max_features': 'log2', 'n_estimators': 140}\n"
     ]
    },
    {
     "data": {
      "text/plain": [
       "['best_gs_randomforst.m']"
      ]
     },
     "execution_count": 55,
     "metadata": {},
     "output_type": "execute_result"
    }
   ],
   "source": [
    "best_score=gs.best_score_\n",
    "bese_pa=gs.best_params_\n",
    "best_gs=gs.best_estimator_\n",
    "print(best_score)\n",
    "print(\"最佳参数：\")\n",
    "print(bese_pa)\n",
    "joblib.dump(best_gs,'best_gs_randomforst.m')"
   ]
  },
  {
   "cell_type": "code",
   "execution_count": 56,
   "metadata": {},
   "outputs": [
    {
     "data": {
      "image/png": "[encoded data removed]",
      "text/plain": [
       "<matplotlib.figure.Figure at 0x19842f3e080>"
      ]
     },
     "metadata": {
      "needs_background": "light"
     },
     "output_type": "display_data"
    }
   ],
   "source": [
    "#在测试集上验证\n",
    "pre_label=best_gs.predict(y_train)\n",
    "plt_model(y_test,pre_label)"
   ]
  },
  {
   "cell_type": "code",
   "execution_count": 57,
   "metadata": {},
   "outputs": [
    {
     "name": "stdout",
     "output_type": "stream",
     "text": [
      "0.9375636240244316\n"
     ]
    }
   ],
   "source": [
    "print(best_gs.score(y_train,y_test))"
   ]
  },
  {
   "cell_type": "code",
   "execution_count": 58,
   "metadata": {},
   "outputs": [
    {
     "name": "stdout",
     "output_type": "stream",
     "text": [
      "              precision    recall  f1-score   support\n",
      "\n",
      "           0       0.91      0.98      0.94       496\n",
      "           1       0.90      0.93      0.91       471\n",
      "           2       0.95      0.83      0.89       420\n",
      "           3       0.97      0.90      0.93       491\n",
      "           4       0.91      0.97      0.94       532\n",
      "           5       1.00      1.00      1.00       537\n",
      "\n",
      "   micro avg       0.94      0.94      0.94      2947\n",
      "   macro avg       0.94      0.93      0.93      2947\n",
      "weighted avg       0.94      0.94      0.94      2947\n",
      "\n"
     ]
    }
   ],
   "source": [
    "print(classification_report(y_test,pre_label))#输出各个类别准确率报告"
   ]
  },
  {
   "cell_type": "code",
   "execution_count": 59,
   "metadata": {},
   "outputs": [
    {
     "name": "stdout",
     "output_type": "stream",
     "text": [
      " 1) tGravityAcc-min()-X            0.021663\n",
      " 2) angle(Z,gravityMean)           0.020693\n",
      " 3) tGravityAcc-mean()-Z           0.018409\n",
      " 4) tGravityAcc-energy()-Z         0.018296\n",
      " 5) tGravityAcc-min()-Z            0.018010\n",
      " 6) tGravityAcc-sma()              0.017656\n",
      " 7) label                          0.017462\n",
      " 8) tGravityAcc-std()-X            0.016018\n",
      " 9) tGravityAcc-max()-Z            0.015759\n",
      "10) tGravityAcc-iqr()-X            0.014372\n"
     ]
    }
   ],
   "source": [
    "#特征重要性\n",
    "importances = best_gs.feature_importances_#得到特征重要性\n",
    "indices = np.argsort(importances)[::-1]#对特征重要性排序\n",
    "cols=list(train_data.columns)\n",
    "for f in range(10):#输出特征重要性\n",
    "    print(\"%2d) %-*s %f\" % (f + 1, 30,cols[2+indices[f]],importances[indices[f]]))"
   ]
  },
  {
   "cell_type": "code",
   "execution_count": 60,
   "metadata": {},
   "outputs": [
    {
     "data": {
      "image/png": "[encoded data removed]",
      "text/plain": [
       "<matplotlib.figure.Figure at 0x1983dab1390>"
      ]
     },
     "metadata": {
      "needs_background": "light"
     },
     "output_type": "display_data"
    }
   ],
   "source": [
    "#在随机森林来看，这个特征最重要\n",
    "plot_feature('tGravityAcc-min()-X')"
   ]
  },
  {
   "cell_type": "markdown",
   "metadata": {},
   "source": [
    "线性SVM"
   ]
  },
  {
   "cell_type": "code",
   "execution_count": 61,
   "metadata": {},
   "outputs": [
    {
     "name": "stdout",
     "output_type": "stream",
     "text": [
      "Fitting 10 folds for each of 10 candidates, totalling 100 fits\n"
     ]
    },
    {
     "name": "stderr",
     "output_type": "stream",
     "text": [
      "[Parallel(n_jobs=-1)]: Using backend LokyBackend with 4 concurrent workers.\n",
      "[Parallel(n_jobs=-1)]: Done  17 tasks      | elapsed:   12.8s\n",
      "[Parallel(n_jobs=-1)]: Done  90 tasks      | elapsed:  3.7min\n",
      "[Parallel(n_jobs=-1)]: Done 100 out of 100 | elapsed:  4.0min finished\n"
     ]
    },
    {
     "data": {
      "text/plain": [
       "GridSearchCV(cv=10, error_score='raise-deprecating',\n",
       "       estimator=LinearSVC(C=1.0, class_weight=None, dual=True, fit_intercept=True,\n",
       "     intercept_scaling=1, loss='squared_hinge', max_iter=1000,\n",
       "     multi_class='ovr', penalty='l2', random_state=None, tol=0.0001,\n",
       "     verbose=0),\n",
       "       fit_params=None, iid='warn', n_jobs=-1,\n",
       "       param_grid={'C': array([1.e-03, 1.e-02, 1.e-01, 1.e+00, 1.e+01, 1.e+02, 1.e+03, 1.e+04,\n",
       "       1.e+05, 1.e+06])},\n",
       "       pre_dispatch='2*n_jobs', refit=True, return_train_score='warn',\n",
       "       scoring=None, verbose=4)"
      ]
     },
     "execution_count": 61,
     "metadata": {},
     "output_type": "execute_result"
    }
   ],
   "source": [
    "from sklearn.svm import LinearSVC\n",
    "svm_linear=LinearSVC()\n",
    "c_range = np.logspace(-3, 6, 10, base=10)\n",
    "param_grid = {'C':c_range}\n",
    "gs=GridSearchCV(svm_linear,param_grid=param_grid,cv=10,verbose=4,n_jobs=-1)\n",
    "gs.fit(x_train,x_test)"
   ]
  },
  {
   "cell_type": "code",
   "execution_count": 62,
   "metadata": {},
   "outputs": [
    {
     "name": "stdout",
     "output_type": "stream",
     "text": [
      "0.9510337323177367\n",
      "最佳参数：\n",
      "{'C': 1.0}\n"
     ]
    },
    {
     "data": {
      "text/plain": [
       "['best_gs_svm.m']"
      ]
     },
     "execution_count": 62,
     "metadata": {},
     "output_type": "execute_result"
    }
   ],
   "source": [
    "best_score=gs.best_score_\n",
    "bese_pa=gs.best_params_\n",
    "best_gs=gs.best_estimator_\n",
    "print(best_score)\n",
    "print(\"最佳参数：\")\n",
    "print(bese_pa)\n",
    "joblib.dump(best_gs,'best_gs_svm.m')"
   ]
  },
  {
   "cell_type": "code",
   "execution_count": 63,
   "metadata": {},
   "outputs": [
    {
     "data": {
      "image/png": "[encoded data removed]",
      "text/plain": [
       "<matplotlib.figure.Figure at 0x1983cf3c358>"
      ]
     },
     "metadata": {
      "needs_background": "light"
     },
     "output_type": "display_data"
    }
   ],
   "source": [
    "#在测试集上验证\n",
    "pre_label=best_gs.predict(y_train)\n",
    "plt_model(y_test,pre_label)"
   ]
  },
  {
   "cell_type": "code",
   "execution_count": 64,
   "metadata": {},
   "outputs": [
    {
     "name": "stdout",
     "output_type": "stream",
     "text": [
      "0.9660671869697998\n"
     ]
    }
   ],
   "source": [
    "print(best_gs.score(y_train,y_test))"
   ]
  },
  {
   "cell_type": "code",
   "execution_count": 65,
   "metadata": {},
   "outputs": [
    {
     "name": "stdout",
     "output_type": "stream",
     "text": [
      "              precision    recall  f1-score   support\n",
      "\n",
      "           0       0.96      1.00      0.98       496\n",
      "           1       0.98      0.96      0.97       471\n",
      "           2       1.00      0.98      0.99       420\n",
      "           3       0.98      0.87      0.92       491\n",
      "           4       0.90      0.98      0.94       532\n",
      "           5       1.00      1.00      1.00       537\n",
      "\n",
      "   micro avg       0.97      0.97      0.97      2947\n",
      "   macro avg       0.97      0.97      0.97      2947\n",
      "weighted avg       0.97      0.97      0.97      2947\n",
      "\n"
     ]
    }
   ],
   "source": [
    "print(classification_report(y_test,pre_label))#输出各个类别准确率报告"
   ]
  },
  {
   "cell_type": "code",
   "execution_count": 66,
   "metadata": {},
   "outputs": [],
   "source": [
    "#综合分析上述4个模型，使用线性模型分数更高，比如逻辑回归，线性SVM，而树型算法对第3类无法很好区分，容易将它分为第2类"
   ]
  }
 ],
 "metadata": {
  "kernelspec": {
   "display_name": "Python 3",
   "language": "python",
   "name": "python3"
  },
  "language_info": {
   "codemirror_mode": {
    "name": "ipython",
    "version": 3
   },
   "file_extension": ".py",
   "mimetype": "text/x-python",
   "name": "python",
   "nbconvert_exporter": "python",
   "pygments_lexer": "ipython3",
   "version": "3.6.4"
  }
 },
 "nbformat": 4,
 "nbformat_minor": 2
}
